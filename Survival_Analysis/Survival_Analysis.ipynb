{
  "nbformat": 4,
  "nbformat_minor": 0,
  "metadata": {
    "colab": {
      "name": "Survival_Analysis.ipynb",
      "provenance": [],
      "collapsed_sections": []
    },
    "kernelspec": {
      "name": "python3",
      "display_name": "Python 3"
    },
    "language_info": {
      "name": "python"
    }
  },
  "cells": [
    {
      "cell_type": "markdown",
      "metadata": {
        "id": "TJc1K-VhnTBD"
      },
      "source": [
        "# **Survival Analysis**\n"
      ]
    },
    {
      "cell_type": "markdown",
      "metadata": {
        "id": "vFH1Z8-zusnc"
      },
      "source": [
        "Survival analysis is a popular statistical method to investigate the expected duration of time until an event of interest occurs.\n",
        "\n",
        "We will investigate IBM Employee Attrition & Performance dataset using lifelines package."
      ]
    },
    {
      "cell_type": "code",
      "metadata": {
        "id": "UJluc5wyRUWN"
      },
      "source": [
        "import pandas as pd\n",
        "import numpy as np\n",
        "import seaborn as sns\n",
        "import matplotlib.pyplot as plt\n",
        "plt.style.use('fivethirtyeight')\n",
        "%matplotlib inline\n",
        "import lifelines # for survival analysis\n",
        "from sklearn.preprocessing import LabelEncoder"
      ],
      "execution_count": 120,
      "outputs": []
    },
    {
      "cell_type": "code",
      "metadata": {
        "id": "yDrS-CWqUHFu"
      },
      "source": [
        "df = pd.read_csv('./WA_Fn-UseC_-HR-Employee-Attrition.csv', sep=',')"
      ],
      "execution_count": 121,
      "outputs": []
    },
    {
      "cell_type": "code",
      "metadata": {
        "colab": {
          "base_uri": "https://localhost:8080/",
          "height": 309
        },
        "id": "wowP4CVkVukj",
        "outputId": "f903d124-3708-4233-9ef7-559f940e4dfd"
      },
      "source": [
        "df.head()"
      ],
      "execution_count": 122,
      "outputs": [
        {
          "output_type": "execute_result",
          "data": {
            "text/html": [
              "<div>\n",
              "<style scoped>\n",
              "    .dataframe tbody tr th:only-of-type {\n",
              "        vertical-align: middle;\n",
              "    }\n",
              "\n",
              "    .dataframe tbody tr th {\n",
              "        vertical-align: top;\n",
              "    }\n",
              "\n",
              "    .dataframe thead th {\n",
              "        text-align: right;\n",
              "    }\n",
              "</style>\n",
              "<table border=\"1\" class=\"dataframe\">\n",
              "  <thead>\n",
              "    <tr style=\"text-align: right;\">\n",
              "      <th></th>\n",
              "      <th>Age</th>\n",
              "      <th>Attrition</th>\n",
              "      <th>BusinessTravel</th>\n",
              "      <th>DailyRate</th>\n",
              "      <th>Department</th>\n",
              "      <th>DistanceFromHome</th>\n",
              "      <th>Education</th>\n",
              "      <th>EducationField</th>\n",
              "      <th>EmployeeCount</th>\n",
              "      <th>EmployeeNumber</th>\n",
              "      <th>EnvironmentSatisfaction</th>\n",
              "      <th>Gender</th>\n",
              "      <th>HourlyRate</th>\n",
              "      <th>JobInvolvement</th>\n",
              "      <th>JobLevel</th>\n",
              "      <th>JobRole</th>\n",
              "      <th>JobSatisfaction</th>\n",
              "      <th>MaritalStatus</th>\n",
              "      <th>MonthlyIncome</th>\n",
              "      <th>MonthlyRate</th>\n",
              "      <th>NumCompaniesWorked</th>\n",
              "      <th>Over18</th>\n",
              "      <th>OverTime</th>\n",
              "      <th>PercentSalaryHike</th>\n",
              "      <th>PerformanceRating</th>\n",
              "      <th>RelationshipSatisfaction</th>\n",
              "      <th>StandardHours</th>\n",
              "      <th>StockOptionLevel</th>\n",
              "      <th>TotalWorkingYears</th>\n",
              "      <th>TrainingTimesLastYear</th>\n",
              "      <th>WorkLifeBalance</th>\n",
              "      <th>YearsAtCompany</th>\n",
              "      <th>YearsInCurrentRole</th>\n",
              "      <th>YearsSinceLastPromotion</th>\n",
              "      <th>YearsWithCurrManager</th>\n",
              "    </tr>\n",
              "  </thead>\n",
              "  <tbody>\n",
              "    <tr>\n",
              "      <th>0</th>\n",
              "      <td>41</td>\n",
              "      <td>Yes</td>\n",
              "      <td>Travel_Rarely</td>\n",
              "      <td>1102</td>\n",
              "      <td>Sales</td>\n",
              "      <td>1</td>\n",
              "      <td>2</td>\n",
              "      <td>Life Sciences</td>\n",
              "      <td>1</td>\n",
              "      <td>1</td>\n",
              "      <td>2</td>\n",
              "      <td>Female</td>\n",
              "      <td>94</td>\n",
              "      <td>3</td>\n",
              "      <td>2</td>\n",
              "      <td>Sales Executive</td>\n",
              "      <td>4</td>\n",
              "      <td>Single</td>\n",
              "      <td>5993</td>\n",
              "      <td>19479</td>\n",
              "      <td>8</td>\n",
              "      <td>Y</td>\n",
              "      <td>Yes</td>\n",
              "      <td>11</td>\n",
              "      <td>3</td>\n",
              "      <td>1</td>\n",
              "      <td>80</td>\n",
              "      <td>0</td>\n",
              "      <td>8</td>\n",
              "      <td>0</td>\n",
              "      <td>1</td>\n",
              "      <td>6</td>\n",
              "      <td>4</td>\n",
              "      <td>0</td>\n",
              "      <td>5</td>\n",
              "    </tr>\n",
              "    <tr>\n",
              "      <th>1</th>\n",
              "      <td>49</td>\n",
              "      <td>No</td>\n",
              "      <td>Travel_Frequently</td>\n",
              "      <td>279</td>\n",
              "      <td>Research &amp; Development</td>\n",
              "      <td>8</td>\n",
              "      <td>1</td>\n",
              "      <td>Life Sciences</td>\n",
              "      <td>1</td>\n",
              "      <td>2</td>\n",
              "      <td>3</td>\n",
              "      <td>Male</td>\n",
              "      <td>61</td>\n",
              "      <td>2</td>\n",
              "      <td>2</td>\n",
              "      <td>Research Scientist</td>\n",
              "      <td>2</td>\n",
              "      <td>Married</td>\n",
              "      <td>5130</td>\n",
              "      <td>24907</td>\n",
              "      <td>1</td>\n",
              "      <td>Y</td>\n",
              "      <td>No</td>\n",
              "      <td>23</td>\n",
              "      <td>4</td>\n",
              "      <td>4</td>\n",
              "      <td>80</td>\n",
              "      <td>1</td>\n",
              "      <td>10</td>\n",
              "      <td>3</td>\n",
              "      <td>3</td>\n",
              "      <td>10</td>\n",
              "      <td>7</td>\n",
              "      <td>1</td>\n",
              "      <td>7</td>\n",
              "    </tr>\n",
              "    <tr>\n",
              "      <th>2</th>\n",
              "      <td>37</td>\n",
              "      <td>Yes</td>\n",
              "      <td>Travel_Rarely</td>\n",
              "      <td>1373</td>\n",
              "      <td>Research &amp; Development</td>\n",
              "      <td>2</td>\n",
              "      <td>2</td>\n",
              "      <td>Other</td>\n",
              "      <td>1</td>\n",
              "      <td>4</td>\n",
              "      <td>4</td>\n",
              "      <td>Male</td>\n",
              "      <td>92</td>\n",
              "      <td>2</td>\n",
              "      <td>1</td>\n",
              "      <td>Laboratory Technician</td>\n",
              "      <td>3</td>\n",
              "      <td>Single</td>\n",
              "      <td>2090</td>\n",
              "      <td>2396</td>\n",
              "      <td>6</td>\n",
              "      <td>Y</td>\n",
              "      <td>Yes</td>\n",
              "      <td>15</td>\n",
              "      <td>3</td>\n",
              "      <td>2</td>\n",
              "      <td>80</td>\n",
              "      <td>0</td>\n",
              "      <td>7</td>\n",
              "      <td>3</td>\n",
              "      <td>3</td>\n",
              "      <td>0</td>\n",
              "      <td>0</td>\n",
              "      <td>0</td>\n",
              "      <td>0</td>\n",
              "    </tr>\n",
              "    <tr>\n",
              "      <th>3</th>\n",
              "      <td>33</td>\n",
              "      <td>No</td>\n",
              "      <td>Travel_Frequently</td>\n",
              "      <td>1392</td>\n",
              "      <td>Research &amp; Development</td>\n",
              "      <td>3</td>\n",
              "      <td>4</td>\n",
              "      <td>Life Sciences</td>\n",
              "      <td>1</td>\n",
              "      <td>5</td>\n",
              "      <td>4</td>\n",
              "      <td>Female</td>\n",
              "      <td>56</td>\n",
              "      <td>3</td>\n",
              "      <td>1</td>\n",
              "      <td>Research Scientist</td>\n",
              "      <td>3</td>\n",
              "      <td>Married</td>\n",
              "      <td>2909</td>\n",
              "      <td>23159</td>\n",
              "      <td>1</td>\n",
              "      <td>Y</td>\n",
              "      <td>Yes</td>\n",
              "      <td>11</td>\n",
              "      <td>3</td>\n",
              "      <td>3</td>\n",
              "      <td>80</td>\n",
              "      <td>0</td>\n",
              "      <td>8</td>\n",
              "      <td>3</td>\n",
              "      <td>3</td>\n",
              "      <td>8</td>\n",
              "      <td>7</td>\n",
              "      <td>3</td>\n",
              "      <td>0</td>\n",
              "    </tr>\n",
              "    <tr>\n",
              "      <th>4</th>\n",
              "      <td>27</td>\n",
              "      <td>No</td>\n",
              "      <td>Travel_Rarely</td>\n",
              "      <td>591</td>\n",
              "      <td>Research &amp; Development</td>\n",
              "      <td>2</td>\n",
              "      <td>1</td>\n",
              "      <td>Medical</td>\n",
              "      <td>1</td>\n",
              "      <td>7</td>\n",
              "      <td>1</td>\n",
              "      <td>Male</td>\n",
              "      <td>40</td>\n",
              "      <td>3</td>\n",
              "      <td>1</td>\n",
              "      <td>Laboratory Technician</td>\n",
              "      <td>2</td>\n",
              "      <td>Married</td>\n",
              "      <td>3468</td>\n",
              "      <td>16632</td>\n",
              "      <td>9</td>\n",
              "      <td>Y</td>\n",
              "      <td>No</td>\n",
              "      <td>12</td>\n",
              "      <td>3</td>\n",
              "      <td>4</td>\n",
              "      <td>80</td>\n",
              "      <td>1</td>\n",
              "      <td>6</td>\n",
              "      <td>3</td>\n",
              "      <td>3</td>\n",
              "      <td>2</td>\n",
              "      <td>2</td>\n",
              "      <td>2</td>\n",
              "      <td>2</td>\n",
              "    </tr>\n",
              "  </tbody>\n",
              "</table>\n",
              "</div>"
            ],
            "text/plain": [
              "   Age Attrition  ... YearsSinceLastPromotion  YearsWithCurrManager\n",
              "0   41       Yes  ...                       0                     5\n",
              "1   49        No  ...                       1                     7\n",
              "2   37       Yes  ...                       0                     0\n",
              "3   33        No  ...                       3                     0\n",
              "4   27        No  ...                       2                     2\n",
              "\n",
              "[5 rows x 35 columns]"
            ]
          },
          "metadata": {
            "tags": []
          },
          "execution_count": 122
        }
      ]
    },
    {
      "cell_type": "code",
      "metadata": {
        "colab": {
          "base_uri": "https://localhost:8080/"
        },
        "id": "6xUwqlwj00G0",
        "outputId": "f66f0dad-547b-42d7-d083-1b55804a96ef"
      },
      "source": [
        "# Look at the categorical and numerical variables \n",
        "\n",
        "summary_categorical = []\n",
        "for column in df.columns:\n",
        "  if df[column].dtype == object:\n",
        "    summary_categorical.append(column)\n",
        "    print(df[column].value_counts())\n",
        "    print(f\"----------------------------------\")\n",
        "\n",
        "summary_numerical = []\n",
        "for column in df.columns:\n",
        "  if df[column].dtype != object:\n",
        "    print(f\"{column} : Minimum: {min((df[column].unique()))}, Maximum: {max((df[column].unique()))} \")\n",
        "    summary_numerical.append(column)\n",
        "    print(f\"----------------------------------\")"
      ],
      "execution_count": 123,
      "outputs": [
        {
          "output_type": "stream",
          "text": [
            "No     1233\n",
            "Yes     237\n",
            "Name: Attrition, dtype: int64\n",
            "----------------------------------\n",
            "Travel_Rarely        1043\n",
            "Travel_Frequently     277\n",
            "Non-Travel            150\n",
            "Name: BusinessTravel, dtype: int64\n",
            "----------------------------------\n",
            "Research & Development    961\n",
            "Sales                     446\n",
            "Human Resources            63\n",
            "Name: Department, dtype: int64\n",
            "----------------------------------\n",
            "Life Sciences       606\n",
            "Medical             464\n",
            "Marketing           159\n",
            "Technical Degree    132\n",
            "Other                82\n",
            "Human Resources      27\n",
            "Name: EducationField, dtype: int64\n",
            "----------------------------------\n",
            "Male      882\n",
            "Female    588\n",
            "Name: Gender, dtype: int64\n",
            "----------------------------------\n",
            "Sales Executive              326\n",
            "Research Scientist           292\n",
            "Laboratory Technician        259\n",
            "Manufacturing Director       145\n",
            "Healthcare Representative    131\n",
            "Manager                      102\n",
            "Sales Representative          83\n",
            "Research Director             80\n",
            "Human Resources               52\n",
            "Name: JobRole, dtype: int64\n",
            "----------------------------------\n",
            "Married     673\n",
            "Single      470\n",
            "Divorced    327\n",
            "Name: MaritalStatus, dtype: int64\n",
            "----------------------------------\n",
            "Y    1470\n",
            "Name: Over18, dtype: int64\n",
            "----------------------------------\n",
            "No     1054\n",
            "Yes     416\n",
            "Name: OverTime, dtype: int64\n",
            "----------------------------------\n",
            "Age : Minimum: 18, Maximum: 60 \n",
            "----------------------------------\n",
            "DailyRate : Minimum: 102, Maximum: 1499 \n",
            "----------------------------------\n",
            "DistanceFromHome : Minimum: 1, Maximum: 29 \n",
            "----------------------------------\n",
            "Education : Minimum: 1, Maximum: 5 \n",
            "----------------------------------\n",
            "EmployeeCount : Minimum: 1, Maximum: 1 \n",
            "----------------------------------\n",
            "EmployeeNumber : Minimum: 1, Maximum: 2068 \n",
            "----------------------------------\n",
            "EnvironmentSatisfaction : Minimum: 1, Maximum: 4 \n",
            "----------------------------------\n",
            "HourlyRate : Minimum: 30, Maximum: 100 \n",
            "----------------------------------\n",
            "JobInvolvement : Minimum: 1, Maximum: 4 \n",
            "----------------------------------\n",
            "JobLevel : Minimum: 1, Maximum: 5 \n",
            "----------------------------------\n",
            "JobSatisfaction : Minimum: 1, Maximum: 4 \n",
            "----------------------------------\n",
            "MonthlyIncome : Minimum: 1009, Maximum: 19999 \n",
            "----------------------------------\n",
            "MonthlyRate : Minimum: 2094, Maximum: 26999 \n",
            "----------------------------------\n",
            "NumCompaniesWorked : Minimum: 0, Maximum: 9 \n",
            "----------------------------------\n",
            "PercentSalaryHike : Minimum: 11, Maximum: 25 \n",
            "----------------------------------\n",
            "PerformanceRating : Minimum: 3, Maximum: 4 \n",
            "----------------------------------\n",
            "RelationshipSatisfaction : Minimum: 1, Maximum: 4 \n",
            "----------------------------------\n",
            "StandardHours : Minimum: 80, Maximum: 80 \n",
            "----------------------------------\n",
            "StockOptionLevel : Minimum: 0, Maximum: 3 \n",
            "----------------------------------\n",
            "TotalWorkingYears : Minimum: 0, Maximum: 40 \n",
            "----------------------------------\n",
            "TrainingTimesLastYear : Minimum: 0, Maximum: 6 \n",
            "----------------------------------\n",
            "WorkLifeBalance : Minimum: 1, Maximum: 4 \n",
            "----------------------------------\n",
            "YearsAtCompany : Minimum: 0, Maximum: 40 \n",
            "----------------------------------\n",
            "YearsInCurrentRole : Minimum: 0, Maximum: 18 \n",
            "----------------------------------\n",
            "YearsSinceLastPromotion : Minimum: 0, Maximum: 15 \n",
            "----------------------------------\n",
            "YearsWithCurrManager : Minimum: 0, Maximum: 17 \n",
            "----------------------------------\n"
          ],
          "name": "stdout"
        }
      ]
    },
    {
      "cell_type": "code",
      "metadata": {
        "id": "MrDmv41R1Dww"
      },
      "source": [
        "# Convert the Attrition into binary variable\n",
        "\n",
        "encoder = LabelEncoder()\n",
        "df['Attrition'] = encoder.fit_transform(df['Attrition'])"
      ],
      "execution_count": 124,
      "outputs": []
    },
    {
      "cell_type": "markdown",
      "metadata": {
        "id": "9bmlB_QVvt40"
      },
      "source": [
        "# **Kaplan-Meier Estimator**\n",
        "\n"
      ]
    },
    {
      "cell_type": "code",
      "metadata": {
        "colab": {
          "base_uri": "https://localhost:8080/",
          "height": 683
        },
        "id": "VqPrvUmwvtes",
        "outputId": "adfd7fe5-bf46-4cbe-a921-ce3ec7a800b9"
      },
      "source": [
        "from lifelines import KaplanMeierFitter\n",
        "\n",
        "kmf = KaplanMeierFitter()\n",
        "kmf.fit(durations=df['YearsAtCompany'], event_observed=df['Attrition'])\n",
        "\n",
        "kmf.survival_function_.plot(figsize=(8,5))\n",
        "plt.title('Survival Curve estimated with Kaplan-Meier Fitter')\n",
        "plt.show()\n",
        "\n",
        "kmf.plot_survival_function(figsize=(8,5))\n",
        "plt.title('Survival Curve estimated with Kaplan-Meier Fitter with confidence intervals')\n",
        "plt.show()"
      ],
      "execution_count": 125,
      "outputs": [
        {
          "output_type": "display_data",
          "data": {
            "image/png": "[encoded data removed]",
            "text/plain": [
              "<Figure size 576x360 with 1 Axes>"
            ]
          },
          "metadata": {
            "tags": [],
            "needs_background": "light"
          }
        },
        {
          "output_type": "display_data",
          "data": {
            "image/png": "[encoded data removed]",
            "text/plain": [
              "<Figure size 576x360 with 1 Axes>"
            ]
          },
          "metadata": {
            "tags": [],
            "needs_background": "light"
          }
        }
      ]
    },
    {
      "cell_type": "code",
      "metadata": {
        "colab": {
          "base_uri": "https://localhost:8080/",
          "height": 1000
        },
        "id": "EeQiU_n0G7nW",
        "outputId": "4d8f8eb2-c18e-461f-a259-870a8e3f9eea"
      },
      "source": [
        "kmf.survival_function_"
      ],
      "execution_count": 126,
      "outputs": [
        {
          "output_type": "execute_result",
          "data": {
            "text/html": [
              "<div>\n",
              "<style scoped>\n",
              "    .dataframe tbody tr th:only-of-type {\n",
              "        vertical-align: middle;\n",
              "    }\n",
              "\n",
              "    .dataframe tbody tr th {\n",
              "        vertical-align: top;\n",
              "    }\n",
              "\n",
              "    .dataframe thead th {\n",
              "        text-align: right;\n",
              "    }\n",
              "</style>\n",
              "<table border=\"1\" class=\"dataframe\">\n",
              "  <thead>\n",
              "    <tr style=\"text-align: right;\">\n",
              "      <th></th>\n",
              "      <th>KM_estimate</th>\n",
              "    </tr>\n",
              "    <tr>\n",
              "      <th>timeline</th>\n",
              "      <th></th>\n",
              "    </tr>\n",
              "  </thead>\n",
              "  <tbody>\n",
              "    <tr>\n",
              "      <th>0.0</th>\n",
              "      <td>0.989116</td>\n",
              "    </tr>\n",
              "    <tr>\n",
              "      <th>1.0</th>\n",
              "      <td>0.948192</td>\n",
              "    </tr>\n",
              "    <tr>\n",
              "      <th>2.0</th>\n",
              "      <td>0.927792</td>\n",
              "    </tr>\n",
              "    <tr>\n",
              "      <th>3.0</th>\n",
              "      <td>0.911342</td>\n",
              "    </tr>\n",
              "    <tr>\n",
              "      <th>4.0</th>\n",
              "      <td>0.894026</td>\n",
              "    </tr>\n",
              "    <tr>\n",
              "      <th>5.0</th>\n",
              "      <td>0.872931</td>\n",
              "    </tr>\n",
              "    <tr>\n",
              "      <th>6.0</th>\n",
              "      <td>0.861611</td>\n",
              "    </tr>\n",
              "    <tr>\n",
              "      <th>7.0</th>\n",
              "      <td>0.846275</td>\n",
              "    </tr>\n",
              "    <tr>\n",
              "      <th>8.0</th>\n",
              "      <td>0.831850</td>\n",
              "    </tr>\n",
              "    <tr>\n",
              "      <th>9.0</th>\n",
              "      <td>0.816995</td>\n",
              "    </tr>\n",
              "    <tr>\n",
              "      <th>10.0</th>\n",
              "      <td>0.776815</td>\n",
              "    </tr>\n",
              "    <tr>\n",
              "      <th>11.0</th>\n",
              "      <td>0.770500</td>\n",
              "    </tr>\n",
              "    <tr>\n",
              "      <th>12.0</th>\n",
              "      <td>0.770500</td>\n",
              "    </tr>\n",
              "    <tr>\n",
              "      <th>13.0</th>\n",
              "      <td>0.762795</td>\n",
              "    </tr>\n",
              "    <tr>\n",
              "      <th>14.0</th>\n",
              "      <td>0.754127</td>\n",
              "    </tr>\n",
              "    <tr>\n",
              "      <th>15.0</th>\n",
              "      <td>0.749354</td>\n",
              "    </tr>\n",
              "    <tr>\n",
              "      <th>16.0</th>\n",
              "      <td>0.743923</td>\n",
              "    </tr>\n",
              "    <tr>\n",
              "      <th>17.0</th>\n",
              "      <td>0.738019</td>\n",
              "    </tr>\n",
              "    <tr>\n",
              "      <th>18.0</th>\n",
              "      <td>0.731711</td>\n",
              "    </tr>\n",
              "    <tr>\n",
              "      <th>19.0</th>\n",
              "      <td>0.724676</td>\n",
              "    </tr>\n",
              "    <tr>\n",
              "      <th>20.0</th>\n",
              "      <td>0.716884</td>\n",
              "    </tr>\n",
              "    <tr>\n",
              "      <th>21.0</th>\n",
              "      <td>0.706022</td>\n",
              "    </tr>\n",
              "    <tr>\n",
              "      <th>22.0</th>\n",
              "      <td>0.692444</td>\n",
              "    </tr>\n",
              "    <tr>\n",
              "      <th>23.0</th>\n",
              "      <td>0.673730</td>\n",
              "    </tr>\n",
              "    <tr>\n",
              "      <th>24.0</th>\n",
              "      <td>0.654480</td>\n",
              "    </tr>\n",
              "    <tr>\n",
              "      <th>25.0</th>\n",
              "      <td>0.654480</td>\n",
              "    </tr>\n",
              "    <tr>\n",
              "      <th>26.0</th>\n",
              "      <td>0.654480</td>\n",
              "    </tr>\n",
              "    <tr>\n",
              "      <th>27.0</th>\n",
              "      <td>0.654480</td>\n",
              "    </tr>\n",
              "    <tr>\n",
              "      <th>29.0</th>\n",
              "      <td>0.654480</td>\n",
              "    </tr>\n",
              "    <tr>\n",
              "      <th>30.0</th>\n",
              "      <td>0.654480</td>\n",
              "    </tr>\n",
              "    <tr>\n",
              "      <th>31.0</th>\n",
              "      <td>0.613575</td>\n",
              "    </tr>\n",
              "    <tr>\n",
              "      <th>32.0</th>\n",
              "      <td>0.566377</td>\n",
              "    </tr>\n",
              "    <tr>\n",
              "      <th>33.0</th>\n",
              "      <td>0.509739</td>\n",
              "    </tr>\n",
              "    <tr>\n",
              "      <th>34.0</th>\n",
              "      <td>0.509739</td>\n",
              "    </tr>\n",
              "    <tr>\n",
              "      <th>36.0</th>\n",
              "      <td>0.509739</td>\n",
              "    </tr>\n",
              "    <tr>\n",
              "      <th>37.0</th>\n",
              "      <td>0.509739</td>\n",
              "    </tr>\n",
              "    <tr>\n",
              "      <th>40.0</th>\n",
              "      <td>0.000000</td>\n",
              "    </tr>\n",
              "  </tbody>\n",
              "</table>\n",
              "</div>"
            ],
            "text/plain": [
              "          KM_estimate\n",
              "timeline             \n",
              "0.0          0.989116\n",
              "1.0          0.948192\n",
              "2.0          0.927792\n",
              "3.0          0.911342\n",
              "4.0          0.894026\n",
              "5.0          0.872931\n",
              "6.0          0.861611\n",
              "7.0          0.846275\n",
              "8.0          0.831850\n",
              "9.0          0.816995\n",
              "10.0         0.776815\n",
              "11.0         0.770500\n",
              "12.0         0.770500\n",
              "13.0         0.762795\n",
              "14.0         0.754127\n",
              "15.0         0.749354\n",
              "16.0         0.743923\n",
              "17.0         0.738019\n",
              "18.0         0.731711\n",
              "19.0         0.724676\n",
              "20.0         0.716884\n",
              "21.0         0.706022\n",
              "22.0         0.692444\n",
              "23.0         0.673730\n",
              "24.0         0.654480\n",
              "25.0         0.654480\n",
              "26.0         0.654480\n",
              "27.0         0.654480\n",
              "29.0         0.654480\n",
              "30.0         0.654480\n",
              "31.0         0.613575\n",
              "32.0         0.566377\n",
              "33.0         0.509739\n",
              "34.0         0.509739\n",
              "36.0         0.509739\n",
              "37.0         0.509739\n",
              "40.0         0.000000"
            ]
          },
          "metadata": {
            "tags": []
          },
          "execution_count": 126
        }
      ]
    },
    {
      "cell_type": "markdown",
      "metadata": {
        "id": "8IPPtHlzLssx"
      },
      "source": [
        "## **Survival Function of Different Groups**"
      ]
    },
    {
      "cell_type": "code",
      "metadata": {
        "colab": {
          "base_uri": "https://localhost:8080/",
          "height": 350
        },
        "id": "owlK6u31L1mt",
        "outputId": "77a80cd8-8e5f-4c38-b3e1-3e3d58f6c83b"
      },
      "source": [
        "EnvironmentalLow = ((df['EnvironmentSatisfaction'] == 1) | (df['EnvironmentSatisfaction'] == 2))\n",
        "EnvironmentalHigh = ((df['EnvironmentSatisfaction'] == 3) | (df['EnvironmentSatisfaction'] == 4))\n",
        "\n",
        "ax = plt.subplot()\n",
        "kmf = KaplanMeierFitter()\n",
        "\n",
        "kmf.fit(durations=df[EnvironmentalLow]['YearsAtCompany'], \n",
        "        event_observed=df[EnvironmentalLow]['Attrition'], \n",
        "        label='Low')\n",
        "kmf.survival_function_.plot(figsize=(8,5), ax=ax)\n",
        "\n",
        "kmf.fit(durations=df[EnvironmentalHigh]['YearsAtCompany'], \n",
        "        event_observed=df[EnvironmentalHigh]['Attrition'], \n",
        "        label='High')\n",
        "kmf.survival_function_.plot(figsize=(8,5), ax=ax)\n",
        "plt.title('Survival Function based on Environmental Satisfaction')\n",
        "plt.show();"
      ],
      "execution_count": 127,
      "outputs": [
        {
          "output_type": "display_data",
          "data": {
            "image/png": "[encoded data removed]",
            "text/plain": [
              "<Figure size 576x360 with 1 Axes>"
            ]
          },
          "metadata": {
            "tags": [],
            "needs_background": "light"
          }
        }
      ]
    },
    {
      "cell_type": "code",
      "metadata": {
        "colab": {
          "base_uri": "https://localhost:8080/",
          "height": 350
        },
        "id": "umRRi0eDOZPv",
        "outputId": "458f9b52-fb2a-4017-eefa-9a1b91c495ff"
      },
      "source": [
        "male = (df['Gender'] == 'Male')\n",
        "female = (df['Gender'] == 'Female')\n",
        "\n",
        "ax = plt.subplot()\n",
        "kmf = KaplanMeierFitter()\n",
        "\n",
        "kmf.fit(durations=df[male]['YearsAtCompany'], event_observed=df[male]['Attrition'], label='Male')\n",
        "kmf.survival_function_.plot(figsize=(8,5), ax=ax)\n",
        "kmf.fit(durations=df[female]['YearsAtCompany'], event_observed=df[female]['Attrition'], label='Female')\n",
        "kmf.survival_function_.plot(figsize=(8,5), ax=ax)\n",
        "plt.title('Survival Function based on Gender')\n",
        "plt.show();"
      ],
      "execution_count": 128,
      "outputs": [
        {
          "output_type": "display_data",
          "data": {
            "image/png": "[encoded data removed]",
            "text/plain": [
              "<Figure size 576x360 with 1 Axes>"
            ]
          },
          "metadata": {
            "tags": [],
            "needs_background": "light"
          }
        }
      ]
    },
    {
      "cell_type": "code",
      "metadata": {
        "colab": {
          "base_uri": "https://localhost:8080/",
          "height": 350
        },
        "id": "DOSNY52kOZKr",
        "outputId": "1e7fc871-1a0e-492c-a231-d9347f7be0de"
      },
      "source": [
        "worklifelow = ((df['WorkLifeBalance'] == 1) | (df['WorkLifeBalance'] == 2))\n",
        "worklifehigh = ((df['WorkLifeBalance'] == 3) | (df['WorkLifeBalance'] == 4))\n",
        "\n",
        "ax = plt.subplot()\n",
        "kmf = KaplanMeierFitter()\n",
        "\n",
        "kmf.fit(durations=df[worklifelow]['YearsAtCompany'], \n",
        "        event_observed=df[worklifelow]['Attrition'], \n",
        "        label='Low')\n",
        "kmf.survival_function_.plot(figsize=(8,5), ax=ax)\n",
        "\n",
        "kmf.fit(durations=df[worklifehigh]['YearsAtCompany'], \n",
        "        event_observed=df[worklifehigh]['Attrition'], \n",
        "        label='High')\n",
        "kmf.survival_function_.plot(figsize=(8,5), ax=ax)\n",
        "plt.title('Survival Function based on Work Life Balance')\n",
        "plt.show();"
      ],
      "execution_count": 129,
      "outputs": [
        {
          "output_type": "display_data",
          "data": {
            "image/png": "[encoded data removed]",
            "text/plain": [
              "<Figure size 576x360 with 1 Axes>"
            ]
          },
          "metadata": {
            "tags": [],
            "needs_background": "light"
          }
        }
      ]
    },
    {
      "cell_type": "code",
      "metadata": {
        "colab": {
          "base_uri": "https://localhost:8080/"
        },
        "id": "zks-8uf8OZAH",
        "outputId": "18fe48da-3388-48a4-e542-997baf085ed0"
      },
      "source": [
        "from lifelines.statistics import logrank_test\n",
        "\n",
        "output = logrank_test(durations_A = df[worklifelow]['YearsAtCompany'],\n",
        "                      durations_B = df[worklifehigh]['YearsAtCompany'],\n",
        "                      event_observed_A = df[worklifelow]['Attrition'],\n",
        "                      event_observed_B = df[worklifehigh]['Attrition'])\n",
        "output.print_summary"
      ],
      "execution_count": 130,
      "outputs": [
        {
          "output_type": "execute_result",
          "data": {
            "text/plain": [
              "<bound method StatisticalResult.print_summary of <lifelines.StatisticalResult: logrank_test>\n",
              "               t_0 = -1\n",
              " null_distribution = chi squared\n",
              "degrees_of_freedom = 1\n",
              "         test_name = logrank_test\n",
              "\n",
              "---\n",
              " test_statistic    p  -log2(p)\n",
              "           4.40 0.04      4.80>"
            ]
          },
          "metadata": {
            "tags": []
          },
          "execution_count": 130
        }
      ]
    },
    {
      "cell_type": "code",
      "metadata": {
        "colab": {
          "base_uri": "https://localhost:8080/"
        },
        "id": "oyWSITvjjBZO",
        "outputId": "2d707271-b0b1-4c14-b4de-ecfc5e11d4b4"
      },
      "source": [
        "output = logrank_test(durations_A = df[male]['YearsAtCompany'],\n",
        "                      durations_B = df[female]['YearsAtCompany'],\n",
        "                      event_observed_A = df[male]['Attrition'],\n",
        "                      event_observed_B = df[female]['Attrition'])\n",
        "output.print_summary"
      ],
      "execution_count": 131,
      "outputs": [
        {
          "output_type": "execute_result",
          "data": {
            "text/plain": [
              "<bound method StatisticalResult.print_summary of <lifelines.StatisticalResult: logrank_test>\n",
              "               t_0 = -1\n",
              " null_distribution = chi squared\n",
              "degrees_of_freedom = 1\n",
              "         test_name = logrank_test\n",
              "\n",
              "---\n",
              " test_statistic    p  -log2(p)\n",
              "           1.79 0.18      2.47>"
            ]
          },
          "metadata": {
            "tags": []
          },
          "execution_count": 131
        }
      ]
    },
    {
      "cell_type": "markdown",
      "metadata": {
        "id": "5m63GkZVsZy3"
      },
      "source": [
        "## **Cox Proportional-Hazards Model**"
      ]
    },
    {
      "cell_type": "code",
      "metadata": {
        "id": "egPjpXnkKWkj"
      },
      "source": [
        "# Prepare the dataframe for fitting\n",
        "columns_selected = ['Attrition',\n",
        "                    'EnvironmentSatisfaction',\n",
        "                    'JobInvolvement',\n",
        "                    'JobLevel',\n",
        "                    'JobSatisfaction',\n",
        "                    'PercentSalaryHike',\n",
        "                    'RelationshipSatisfaction',\n",
        "                    'StockOptionLevel', \n",
        "                    'TrainingTimesLastYear', \n",
        "                    'YearsAtCompany',\n",
        "                    ]\n",
        "df = df[columns_selected]"
      ],
      "execution_count": 132,
      "outputs": []
    },
    {
      "cell_type": "code",
      "metadata": {
        "colab": {
          "base_uri": "https://localhost:8080/"
        },
        "id": "Nj8DuzK7VnB6",
        "outputId": "671c2b9f-0e55-4af9-8b40-4cc8b80362aa"
      },
      "source": [
        "from lifelines import CoxPHFitter \n",
        "\n",
        "coxph = CoxPHFitter()\n",
        "coxph.fit(df, \n",
        "          duration_col='YearsAtCompany',\n",
        "          event_col='Attrition')"
      ],
      "execution_count": 133,
      "outputs": [
        {
          "output_type": "execute_result",
          "data": {
            "text/plain": [
              "<lifelines.CoxPHFitter: fitted with 1470 total observations, 1233 right-censored observations>"
            ]
          },
          "metadata": {
            "tags": []
          },
          "execution_count": 133
        }
      ]
    },
    {
      "cell_type": "code",
      "metadata": {
        "colab": {
          "base_uri": "https://localhost:8080/",
          "height": 390
        },
        "id": "dWc7p6qka9_q",
        "outputId": "3cac53f8-af50-406c-ed20-97063faa0838"
      },
      "source": [
        "# Current employees\n",
        "df_new = df.loc[df['Attrition'] == 0]\n",
        "\n",
        "# Years at the company of current employees\n",
        "df_new_obs = df_new['YearsAtCompany']\n",
        "\n",
        "# Predict survival function for the employes still in the company\n",
        "predictions = coxph.predict_survival_function(df_new, \n",
        "                              conditional_after=df_new_obs)\n",
        "pd.DataFrame(predictions).head(11).iloc[:, :5]\n",
        "\n"
      ],
      "execution_count": 134,
      "outputs": [
        {
          "output_type": "execute_result",
          "data": {
            "text/html": [
              "<div>\n",
              "<style scoped>\n",
              "    .dataframe tbody tr th:only-of-type {\n",
              "        vertical-align: middle;\n",
              "    }\n",
              "\n",
              "    .dataframe tbody tr th {\n",
              "        vertical-align: top;\n",
              "    }\n",
              "\n",
              "    .dataframe thead th {\n",
              "        text-align: right;\n",
              "    }\n",
              "</style>\n",
              "<table border=\"1\" class=\"dataframe\">\n",
              "  <thead>\n",
              "    <tr style=\"text-align: right;\">\n",
              "      <th></th>\n",
              "      <th>1</th>\n",
              "      <th>3</th>\n",
              "      <th>4</th>\n",
              "      <th>5</th>\n",
              "      <th>6</th>\n",
              "    </tr>\n",
              "  </thead>\n",
              "  <tbody>\n",
              "    <tr>\n",
              "      <th>0.0</th>\n",
              "      <td>1.000000</td>\n",
              "      <td>1.000000</td>\n",
              "      <td>1.000000</td>\n",
              "      <td>1.000000</td>\n",
              "      <td>1.000000</td>\n",
              "    </tr>\n",
              "    <tr>\n",
              "      <th>1.0</th>\n",
              "      <td>0.986432</td>\n",
              "      <td>0.954724</td>\n",
              "      <td>0.960284</td>\n",
              "      <td>0.962205</td>\n",
              "      <td>0.988253</td>\n",
              "    </tr>\n",
              "    <tr>\n",
              "      <th>2.0</th>\n",
              "      <td>0.986432</td>\n",
              "      <td>0.832634</td>\n",
              "      <td>0.916395</td>\n",
              "      <td>0.921246</td>\n",
              "      <td>0.978083</td>\n",
              "    </tr>\n",
              "    <tr>\n",
              "      <th>3.0</th>\n",
              "      <td>0.967805</td>\n",
              "      <td>0.809509</td>\n",
              "      <td>0.861182</td>\n",
              "      <td>0.810190</td>\n",
              "      <td>0.966473</td>\n",
              "    </tr>\n",
              "    <tr>\n",
              "      <th>4.0</th>\n",
              "      <td>0.945323</td>\n",
              "      <td>0.809509</td>\n",
              "      <td>0.827521</td>\n",
              "      <td>0.789046</td>\n",
              "      <td>0.951264</td>\n",
              "    </tr>\n",
              "    <tr>\n",
              "      <th>5.0</th>\n",
              "      <td>0.932830</td>\n",
              "      <td>0.778307</td>\n",
              "      <td>0.780170</td>\n",
              "      <td>0.789046</td>\n",
              "      <td>0.941632</td>\n",
              "    </tr>\n",
              "    <tr>\n",
              "      <th>6.0</th>\n",
              "      <td>0.915765</td>\n",
              "      <td>0.741488</td>\n",
              "      <td>0.733268</td>\n",
              "      <td>0.760459</td>\n",
              "      <td>0.927576</td>\n",
              "    </tr>\n",
              "    <tr>\n",
              "      <th>7.0</th>\n",
              "      <td>0.896696</td>\n",
              "      <td>0.721426</td>\n",
              "      <td>0.683693</td>\n",
              "      <td>0.726635</td>\n",
              "      <td>0.913012</td>\n",
              "    </tr>\n",
              "    <tr>\n",
              "      <th>8.0</th>\n",
              "      <td>0.873145</td>\n",
              "      <td>0.694477</td>\n",
              "      <td>0.556010</td>\n",
              "      <td>0.708161</td>\n",
              "      <td>0.896843</td>\n",
              "    </tr>\n",
              "    <tr>\n",
              "      <th>9.0</th>\n",
              "      <td>0.842241</td>\n",
              "      <td>0.664991</td>\n",
              "      <td>0.532846</td>\n",
              "      <td>0.683297</td>\n",
              "      <td>0.850747</td>\n",
              "    </tr>\n",
              "    <tr>\n",
              "      <th>10.0</th>\n",
              "      <td>0.805809</td>\n",
              "      <td>0.629481</td>\n",
              "      <td>0.532846</td>\n",
              "      <td>0.656024</td>\n",
              "      <td>0.841556</td>\n",
              "    </tr>\n",
              "  </tbody>\n",
              "</table>\n",
              "</div>"
            ],
            "text/plain": [
              "             1         3         4         5         6\n",
              "0.0   1.000000  1.000000  1.000000  1.000000  1.000000\n",
              "1.0   0.986432  0.954724  0.960284  0.962205  0.988253\n",
              "2.0   0.986432  0.832634  0.916395  0.921246  0.978083\n",
              "3.0   0.967805  0.809509  0.861182  0.810190  0.966473\n",
              "4.0   0.945323  0.809509  0.827521  0.789046  0.951264\n",
              "5.0   0.932830  0.778307  0.780170  0.789046  0.941632\n",
              "6.0   0.915765  0.741488  0.733268  0.760459  0.927576\n",
              "7.0   0.896696  0.721426  0.683693  0.726635  0.913012\n",
              "8.0   0.873145  0.694477  0.556010  0.708161  0.896843\n",
              "9.0   0.842241  0.664991  0.532846  0.683297  0.850747\n",
              "10.0  0.805809  0.629481  0.532846  0.656024  0.841556"
            ]
          },
          "metadata": {
            "tags": []
          },
          "execution_count": 134
        }
      ]
    },
    {
      "cell_type": "code",
      "metadata": {
        "colab": {
          "base_uri": "https://localhost:8080/",
          "height": 740
        },
        "id": "Lf65hJWXbgvP",
        "outputId": "e1d0ddc4-03d1-4500-d975-b04f16afe5f3"
      },
      "source": [
        "coxph.print_summary()"
      ],
      "execution_count": 135,
      "outputs": [
        {
          "output_type": "display_data",
          "data": {
            "text/latex": "\\begin{tabular}{lrrrrrrrrrr}\n\\toprule\n{} &  coef &  exp(coef) &  se(coef) &  coef lower 95\\% &  coef upper 95\\% &  exp(coef) lower 95\\% &  exp(coef) upper 95\\% &      z &    p &  -log2(p) \\\\\ncovariate                &       &            &           &                 &                 &                      &                      &        &      &           \\\\\n\\midrule\nEnvironmentSatisfaction  & -0.24 &       0.79 &      0.06 &           -0.35 &           -0.12 &                 0.70 &                 0.89 &  -4.00 & 0.00 &     13.92 \\\\\nJobInvolvement           & -0.44 &       0.65 &      0.09 &           -0.61 &           -0.27 &                 0.55 &                 0.76 &  -5.08 & 0.00 &     21.31 \\\\\nJobLevel                 & -1.02 &       0.36 &      0.09 &           -1.20 &           -0.83 &                 0.30 &                 0.44 & -10.77 & 0.00 &     87.49 \\\\\nJobSatisfaction          & -0.22 &       0.81 &      0.06 &           -0.33 &           -0.10 &                 0.72 &                 0.90 &  -3.77 & 0.00 &     12.61 \\\\\nPercentSalaryHike        & -0.01 &       0.99 &      0.02 &           -0.04 &            0.03 &                 0.96 &                 1.03 &  -0.44 & 0.66 &      0.60 \\\\\nRelationshipSatisfaction & -0.08 &       0.92 &      0.06 &           -0.20 &            0.04 &                 0.82 &                 1.04 &  -1.34 & 0.18 &      2.46 \\\\\nStockOptionLevel         & -0.42 &       0.65 &      0.09 &           -0.60 &           -0.24 &                 0.55 &                 0.78 &  -4.63 & 0.00 &     18.04 \\\\\nTrainingTimesLastYear    & -0.17 &       0.85 &      0.05 &           -0.28 &           -0.06 &                 0.76 &                 0.94 &  -3.07 & 0.00 &      8.84 \\\\\n\\bottomrule\n\\end{tabular}\n",
            "text/html": [
              "<div>\n",
              "<style scoped>\n",
              "    .dataframe tbody tr th:only-of-type {\n",
              "        vertical-align: middle;\n",
              "    }\n",
              "\n",
              "    .dataframe tbody tr th {\n",
              "        vertical-align: top;\n",
              "    }\n",
              "\n",
              "    .dataframe thead th {\n",
              "        text-align: right;\n",
              "    }\n",
              "</style>\n",
              "<table border=\"1\" class=\"dataframe\">\n",
              "  <tbody>\n",
              "    <tr>\n",
              "      <th>model</th>\n",
              "      <td>lifelines.CoxPHFitter</td>\n",
              "    </tr>\n",
              "    <tr>\n",
              "      <th>duration col</th>\n",
              "      <td>'YearsAtCompany'</td>\n",
              "    </tr>\n",
              "    <tr>\n",
              "      <th>event col</th>\n",
              "      <td>'Attrition'</td>\n",
              "    </tr>\n",
              "    <tr>\n",
              "      <th>baseline estimation</th>\n",
              "      <td>breslow</td>\n",
              "    </tr>\n",
              "    <tr>\n",
              "      <th>number of observations</th>\n",
              "      <td>1470</td>\n",
              "    </tr>\n",
              "    <tr>\n",
              "      <th>number of events observed</th>\n",
              "      <td>237</td>\n",
              "    </tr>\n",
              "    <tr>\n",
              "      <th>partial log-likelihood</th>\n",
              "      <td>-1449.16</td>\n",
              "    </tr>\n",
              "    <tr>\n",
              "      <th>time fit was run</th>\n",
              "      <td>2021-07-03 19:13:33 UTC</td>\n",
              "    </tr>\n",
              "  </tbody>\n",
              "</table>\n",
              "</div><table border=\"1\" class=\"dataframe\">\n",
              "  <thead>\n",
              "    <tr style=\"text-align: right;\">\n",
              "      <th style=\"min-width: 12px;\"></th>\n",
              "      <th style=\"min-width: 12px;\">coef</th>\n",
              "      <th style=\"min-width: 12px;\">exp(coef)</th>\n",
              "      <th style=\"min-width: 12px;\">se(coef)</th>\n",
              "      <th style=\"min-width: 12px;\">coef lower 95%</th>\n",
              "      <th style=\"min-width: 12px;\">coef upper 95%</th>\n",
              "      <th style=\"min-width: 12px;\">exp(coef) lower 95%</th>\n",
              "      <th style=\"min-width: 12px;\">exp(coef) upper 95%</th>\n",
              "      <th style=\"min-width: 12px;\">z</th>\n",
              "      <th style=\"min-width: 12px;\">p</th>\n",
              "      <th style=\"min-width: 12px;\">-log2(p)</th>\n",
              "    </tr>\n",
              "  </thead>\n",
              "  <tbody>\n",
              "    <tr>\n",
              "      <th>EnvironmentSatisfaction</th>\n",
              "      <td>-0.24</td>\n",
              "      <td>0.79</td>\n",
              "      <td>0.06</td>\n",
              "      <td>-0.35</td>\n",
              "      <td>-0.12</td>\n",
              "      <td>0.70</td>\n",
              "      <td>0.89</td>\n",
              "      <td>-4.00</td>\n",
              "      <td>&lt;0.005</td>\n",
              "      <td>13.92</td>\n",
              "    </tr>\n",
              "    <tr>\n",
              "      <th>JobInvolvement</th>\n",
              "      <td>-0.44</td>\n",
              "      <td>0.65</td>\n",
              "      <td>0.09</td>\n",
              "      <td>-0.61</td>\n",
              "      <td>-0.27</td>\n",
              "      <td>0.55</td>\n",
              "      <td>0.76</td>\n",
              "      <td>-5.08</td>\n",
              "      <td>&lt;0.005</td>\n",
              "      <td>21.31</td>\n",
              "    </tr>\n",
              "    <tr>\n",
              "      <th>JobLevel</th>\n",
              "      <td>-1.02</td>\n",
              "      <td>0.36</td>\n",
              "      <td>0.09</td>\n",
              "      <td>-1.20</td>\n",
              "      <td>-0.83</td>\n",
              "      <td>0.30</td>\n",
              "      <td>0.44</td>\n",
              "      <td>-10.77</td>\n",
              "      <td>&lt;0.005</td>\n",
              "      <td>87.49</td>\n",
              "    </tr>\n",
              "    <tr>\n",
              "      <th>JobSatisfaction</th>\n",
              "      <td>-0.22</td>\n",
              "      <td>0.81</td>\n",
              "      <td>0.06</td>\n",
              "      <td>-0.33</td>\n",
              "      <td>-0.10</td>\n",
              "      <td>0.72</td>\n",
              "      <td>0.90</td>\n",
              "      <td>-3.77</td>\n",
              "      <td>&lt;0.005</td>\n",
              "      <td>12.61</td>\n",
              "    </tr>\n",
              "    <tr>\n",
              "      <th>PercentSalaryHike</th>\n",
              "      <td>-0.01</td>\n",
              "      <td>0.99</td>\n",
              "      <td>0.02</td>\n",
              "      <td>-0.04</td>\n",
              "      <td>0.03</td>\n",
              "      <td>0.96</td>\n",
              "      <td>1.03</td>\n",
              "      <td>-0.44</td>\n",
              "      <td>0.66</td>\n",
              "      <td>0.60</td>\n",
              "    </tr>\n",
              "    <tr>\n",
              "      <th>RelationshipSatisfaction</th>\n",
              "      <td>-0.08</td>\n",
              "      <td>0.92</td>\n",
              "      <td>0.06</td>\n",
              "      <td>-0.20</td>\n",
              "      <td>0.04</td>\n",
              "      <td>0.82</td>\n",
              "      <td>1.04</td>\n",
              "      <td>-1.34</td>\n",
              "      <td>0.18</td>\n",
              "      <td>2.46</td>\n",
              "    </tr>\n",
              "    <tr>\n",
              "      <th>StockOptionLevel</th>\n",
              "      <td>-0.42</td>\n",
              "      <td>0.65</td>\n",
              "      <td>0.09</td>\n",
              "      <td>-0.60</td>\n",
              "      <td>-0.24</td>\n",
              "      <td>0.55</td>\n",
              "      <td>0.78</td>\n",
              "      <td>-4.63</td>\n",
              "      <td>&lt;0.005</td>\n",
              "      <td>18.04</td>\n",
              "    </tr>\n",
              "    <tr>\n",
              "      <th>TrainingTimesLastYear</th>\n",
              "      <td>-0.17</td>\n",
              "      <td>0.85</td>\n",
              "      <td>0.05</td>\n",
              "      <td>-0.28</td>\n",
              "      <td>-0.06</td>\n",
              "      <td>0.76</td>\n",
              "      <td>0.94</td>\n",
              "      <td>-3.07</td>\n",
              "      <td>&lt;0.005</td>\n",
              "      <td>8.84</td>\n",
              "    </tr>\n",
              "  </tbody>\n",
              "</table><br><div>\n",
              "<style scoped>\n",
              "    .dataframe tbody tr th:only-of-type {\n",
              "        vertical-align: middle;\n",
              "    }\n",
              "\n",
              "    .dataframe tbody tr th {\n",
              "        vertical-align: top;\n",
              "    }\n",
              "\n",
              "    .dataframe thead th {\n",
              "        text-align: right;\n",
              "    }\n",
              "</style>\n",
              "<table border=\"1\" class=\"dataframe\">\n",
              "  <tbody>\n",
              "    <tr>\n",
              "      <th>Concordance</th>\n",
              "      <td>0.79</td>\n",
              "    </tr>\n",
              "    <tr>\n",
              "      <th>Partial AIC</th>\n",
              "      <td>2914.33</td>\n",
              "    </tr>\n",
              "    <tr>\n",
              "      <th>log-likelihood ratio test</th>\n",
              "      <td>249.92 on 8 df</td>\n",
              "    </tr>\n",
              "    <tr>\n",
              "      <th>-log2(p) of ll-ratio test</th>\n",
              "      <td>161.93</td>\n",
              "    </tr>\n",
              "  </tbody>\n",
              "</table>\n",
              "</div>"
            ],
            "text/plain": [
              "<lifelines.CoxPHFitter: fitted with 1470 total observations, 1233 right-censored observations>\n",
              "             duration col = 'YearsAtCompany'\n",
              "                event col = 'Attrition'\n",
              "      baseline estimation = breslow\n",
              "   number of observations = 1470\n",
              "number of events observed = 237\n",
              "   partial log-likelihood = -1449.16\n",
              "         time fit was run = 2021-07-03 19:13:33 UTC\n",
              "\n",
              "---\n",
              "                           coef  exp(coef)   se(coef)   coef lower 95%   coef upper 95%  exp(coef) lower 95%  exp(coef) upper 95%\n",
              "covariate                                                                                                                        \n",
              "EnvironmentSatisfaction   -0.24       0.79       0.06            -0.35            -0.12                 0.70                 0.89\n",
              "JobInvolvement            -0.44       0.65       0.09            -0.61            -0.27                 0.55                 0.76\n",
              "JobLevel                  -1.02       0.36       0.09            -1.20            -0.83                 0.30                 0.44\n",
              "JobSatisfaction           -0.22       0.81       0.06            -0.33            -0.10                 0.72                 0.90\n",
              "PercentSalaryHike         -0.01       0.99       0.02            -0.04             0.03                 0.96                 1.03\n",
              "RelationshipSatisfaction  -0.08       0.92       0.06            -0.20             0.04                 0.82                 1.04\n",
              "StockOptionLevel          -0.42       0.65       0.09            -0.60            -0.24                 0.55                 0.78\n",
              "TrainingTimesLastYear     -0.17       0.85       0.05            -0.28            -0.06                 0.76                 0.94\n",
              "\n",
              "                              z      p   -log2(p)\n",
              "covariate                                        \n",
              "EnvironmentSatisfaction   -4.00 <0.005      13.92\n",
              "JobInvolvement            -5.08 <0.005      21.31\n",
              "JobLevel                 -10.77 <0.005      87.49\n",
              "JobSatisfaction           -3.77 <0.005      12.61\n",
              "PercentSalaryHike         -0.44   0.66       0.60\n",
              "RelationshipSatisfaction  -1.34   0.18       2.46\n",
              "StockOptionLevel          -4.63 <0.005      18.04\n",
              "TrainingTimesLastYear     -3.07 <0.005       8.84\n",
              "---\n",
              "Concordance = 0.79\n",
              "Partial AIC = 2914.33\n",
              "log-likelihood ratio test = 249.92 on 8 df\n",
              "-log2(p) of ll-ratio test = 161.93"
            ]
          },
          "metadata": {
            "tags": []
          }
        }
      ]
    },
    {
      "cell_type": "code",
      "metadata": {
        "colab": {
          "base_uri": "https://localhost:8080/",
          "height": 296
        },
        "id": "4TuAmBl_YCvo",
        "outputId": "c9a6b3b9-267d-42c3-bce8-75fea2dfe5fa"
      },
      "source": [
        "coxph.plot()"
      ],
      "execution_count": 136,
      "outputs": [
        {
          "output_type": "execute_result",
          "data": {
            "text/plain": [
              "<matplotlib.axes._subplots.AxesSubplot at 0x7f3f2d48f910>"
            ]
          },
          "metadata": {
            "tags": []
          },
          "execution_count": 136
        },
        {
          "output_type": "display_data",
          "data": {
            "image/png": "[encoded data removed]",
            "text/plain": [
              "<Figure size 432x288 with 1 Axes>"
            ]
          },
          "metadata": {
            "tags": [],
            "needs_background": "light"
          }
        }
      ]
    },
    {
      "cell_type": "code",
      "metadata": {
        "colab": {
          "base_uri": "https://localhost:8080/"
        },
        "id": "kYUyISR3YCqg",
        "outputId": "6e1a1c3e-6f8a-40bd-9d19-282388684b60"
      },
      "source": [
        "coxph.check_assumptions(df)"
      ],
      "execution_count": 137,
      "outputs": [
        {
          "output_type": "stream",
          "text": [
            "Proportional hazard assumption looks okay.\n"
          ],
          "name": "stdout"
        },
        {
          "output_type": "execute_result",
          "data": {
            "text/plain": [
              "[]"
            ]
          },
          "metadata": {
            "tags": []
          },
          "execution_count": 137
        }
      ]
    },
    {
      "cell_type": "code",
      "metadata": {
        "id": "3GsSd9A9ylt2"
      },
      "source": [
        ""
      ],
      "execution_count": null,
      "outputs": []
    }
  ]
}