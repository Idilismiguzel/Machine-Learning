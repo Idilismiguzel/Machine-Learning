{
  "nbformat": 4,
  "nbformat_minor": 0,
  "metadata": {
    "colab": {
      "name": "Hyperparameter_Tuning_Grid_RandomSearch.ipynb",
      "provenance": [],
      "collapsed_sections": []
    },
    "kernelspec": {
      "name": "python3",
      "display_name": "Python 3"
    },
    "language_info": {
      "name": "python"
    }
  },
  "cells": [
    {
      "cell_type": "markdown",
      "metadata": {
        "id": "riJ4SvA4J901"
      },
      "source": [
        "# Hyperparameter Tuning in Python\n",
        "A deep dive into Grid Search and Random Search"
      ]
    },
    {
      "cell_type": "code",
      "metadata": {
        "id": "Xz90jRFbIkLK"
      },
      "source": [
        "# Import necessary libraries\n",
        "import pandas as pd\n",
        "import numpy as np\n",
        "from sklearn.model_selection import train_test_split\n",
        "from sklearn.metrics import accuracy_score, roc_auc_score\n",
        "from sklearn.model_selection import GridSearchCV, RandomizedSearchCV\n",
        "from sklearn.ensemble import RandomForestClassifier\n",
        "from sklearn.metrics import mean_squared_error\n",
        "from sklearn.metrics import confusion_matrix\n",
        "from time import time"
      ],
      "execution_count": 1,
      "outputs": []
    },
    {
      "cell_type": "code",
      "metadata": {
        "id": "aSouwmrYLdxY"
      },
      "source": [
        "# Call random forest classifier\n",
        "rf = RandomForestClassifier()"
      ],
      "execution_count": 2,
      "outputs": []
    },
    {
      "cell_type": "code",
      "metadata": {
        "colab": {
          "base_uri": "https://localhost:8080/"
        },
        "id": "ql7fqn_6LlGp",
        "outputId": "7ddcc276-9beb-4ce6-a288-3491e30f113d"
      },
      "source": [
        "# Get the default setting\n",
        "rf.get_params"
      ],
      "execution_count": 3,
      "outputs": [
        {
          "output_type": "execute_result",
          "data": {
            "text/plain": [
              "<bound method BaseEstimator.get_params of RandomForestClassifier(bootstrap=True, ccp_alpha=0.0, class_weight=None,\n",
              "                       criterion='gini', max_depth=None, max_features='auto',\n",
              "                       max_leaf_nodes=None, max_samples=None,\n",
              "                       min_impurity_decrease=0.0, min_impurity_split=None,\n",
              "                       min_samples_leaf=1, min_samples_split=2,\n",
              "                       min_weight_fraction_leaf=0.0, n_estimators=100,\n",
              "                       n_jobs=None, oob_score=False, random_state=None,\n",
              "                       verbose=0, warm_start=False)>"
            ]
          },
          "metadata": {},
          "execution_count": 3
        }
      ]
    },
    {
      "cell_type": "code",
      "metadata": {
        "id": "1NzuWQXge2ID"
      },
      "source": [
        "# Load the data\n",
        "df = pd.read_csv('/content/glass.csv')"
      ],
      "execution_count": 4,
      "outputs": []
    },
    {
      "cell_type": "code",
      "metadata": {
        "colab": {
          "base_uri": "https://localhost:8080/",
          "height": 204
        },
        "id": "UJADev89e5EL",
        "outputId": "0b9f4ca4-08cb-41be-9a88-9798a1f4619c"
      },
      "source": [
        "df.sample(5)"
      ],
      "execution_count": 5,
      "outputs": [
        {
          "output_type": "execute_result",
          "data": {
            "text/html": [
              "<div>\n",
              "<style scoped>\n",
              "    .dataframe tbody tr th:only-of-type {\n",
              "        vertical-align: middle;\n",
              "    }\n",
              "\n",
              "    .dataframe tbody tr th {\n",
              "        vertical-align: top;\n",
              "    }\n",
              "\n",
              "    .dataframe thead th {\n",
              "        text-align: right;\n",
              "    }\n",
              "</style>\n",
              "<table border=\"1\" class=\"dataframe\">\n",
              "  <thead>\n",
              "    <tr style=\"text-align: right;\">\n",
              "      <th></th>\n",
              "      <th>RI</th>\n",
              "      <th>Na</th>\n",
              "      <th>Mg</th>\n",
              "      <th>Al</th>\n",
              "      <th>Si</th>\n",
              "      <th>K</th>\n",
              "      <th>Ca</th>\n",
              "      <th>Ba</th>\n",
              "      <th>Fe</th>\n",
              "      <th>Type</th>\n",
              "    </tr>\n",
              "  </thead>\n",
              "  <tbody>\n",
              "    <tr>\n",
              "      <th>40</th>\n",
              "      <td>1.51793</td>\n",
              "      <td>12.79</td>\n",
              "      <td>3.50</td>\n",
              "      <td>1.12</td>\n",
              "      <td>73.03</td>\n",
              "      <td>0.64</td>\n",
              "      <td>8.77</td>\n",
              "      <td>0.00</td>\n",
              "      <td>0.00</td>\n",
              "      <td>1</td>\n",
              "    </tr>\n",
              "    <tr>\n",
              "      <th>141</th>\n",
              "      <td>1.51851</td>\n",
              "      <td>13.20</td>\n",
              "      <td>3.63</td>\n",
              "      <td>1.07</td>\n",
              "      <td>72.83</td>\n",
              "      <td>0.57</td>\n",
              "      <td>8.41</td>\n",
              "      <td>0.09</td>\n",
              "      <td>0.17</td>\n",
              "      <td>2</td>\n",
              "    </tr>\n",
              "    <tr>\n",
              "      <th>81</th>\n",
              "      <td>1.51593</td>\n",
              "      <td>13.25</td>\n",
              "      <td>3.45</td>\n",
              "      <td>1.43</td>\n",
              "      <td>73.17</td>\n",
              "      <td>0.61</td>\n",
              "      <td>7.86</td>\n",
              "      <td>0.00</td>\n",
              "      <td>0.00</td>\n",
              "      <td>2</td>\n",
              "    </tr>\n",
              "    <tr>\n",
              "      <th>176</th>\n",
              "      <td>1.51905</td>\n",
              "      <td>14.00</td>\n",
              "      <td>2.39</td>\n",
              "      <td>1.56</td>\n",
              "      <td>72.37</td>\n",
              "      <td>0.00</td>\n",
              "      <td>9.57</td>\n",
              "      <td>0.00</td>\n",
              "      <td>0.00</td>\n",
              "      <td>6</td>\n",
              "    </tr>\n",
              "    <tr>\n",
              "      <th>95</th>\n",
              "      <td>1.51860</td>\n",
              "      <td>13.36</td>\n",
              "      <td>3.43</td>\n",
              "      <td>1.43</td>\n",
              "      <td>72.26</td>\n",
              "      <td>0.51</td>\n",
              "      <td>8.60</td>\n",
              "      <td>0.00</td>\n",
              "      <td>0.00</td>\n",
              "      <td>2</td>\n",
              "    </tr>\n",
              "  </tbody>\n",
              "</table>\n",
              "</div>"
            ],
            "text/plain": [
              "          RI     Na    Mg    Al     Si     K    Ca    Ba    Fe  Type\n",
              "40   1.51793  12.79  3.50  1.12  73.03  0.64  8.77  0.00  0.00     1\n",
              "141  1.51851  13.20  3.63  1.07  72.83  0.57  8.41  0.09  0.17     2\n",
              "81   1.51593  13.25  3.45  1.43  73.17  0.61  7.86  0.00  0.00     2\n",
              "176  1.51905  14.00  2.39  1.56  72.37  0.00  9.57  0.00  0.00     6\n",
              "95   1.51860  13.36  3.43  1.43  72.26  0.51  8.60  0.00  0.00     2"
            ]
          },
          "metadata": {},
          "execution_count": 5
        }
      ]
    },
    {
      "cell_type": "code",
      "metadata": {
        "id": "Seql22zj5jg7"
      },
      "source": [
        "# Seperate X and y\n",
        "X = df.drop(columns=['Type'], axis=1)\n",
        "y = df['Type']"
      ],
      "execution_count": 6,
      "outputs": []
    },
    {
      "cell_type": "code",
      "metadata": {
        "id": "DMdKwWMjo1tS"
      },
      "source": [
        "# Generate training and test sets for X and y\n",
        "X_train, X_test, y_train, y_test = train_test_split(X, y, train_size=0.8, random_state=42)"
      ],
      "execution_count": 7,
      "outputs": []
    },
    {
      "cell_type": "code",
      "metadata": {
        "id": "T0ko93GPo3wA",
        "colab": {
          "base_uri": "https://localhost:8080/"
        },
        "outputId": "987d9cf0-c25e-4612-95be-4f80fe7fb9c6"
      },
      "source": [
        "# Call and fit the random forest on the training set\n",
        "rf_model = RandomForestClassifier()\n",
        "rf_model.fit(X_train, y_train)"
      ],
      "execution_count": 8,
      "outputs": [
        {
          "output_type": "execute_result",
          "data": {
            "text/plain": [
              "RandomForestClassifier(bootstrap=True, ccp_alpha=0.0, class_weight=None,\n",
              "                       criterion='gini', max_depth=None, max_features='auto',\n",
              "                       max_leaf_nodes=None, max_samples=None,\n",
              "                       min_impurity_decrease=0.0, min_impurity_split=None,\n",
              "                       min_samples_leaf=1, min_samples_split=2,\n",
              "                       min_weight_fraction_leaf=0.0, n_estimators=100,\n",
              "                       n_jobs=None, oob_score=False, random_state=None,\n",
              "                       verbose=0, warm_start=False)"
            ]
          },
          "metadata": {},
          "execution_count": 8
        }
      ]
    },
    {
      "cell_type": "code",
      "metadata": {
        "id": "cClGixN3VBAt"
      },
      "source": [
        "# Predict on the test set and call accuracy\n",
        "y_pred = rf_model.predict(X_test)\n",
        "accuracy = accuracy_score(y_test, y_pred)"
      ],
      "execution_count": 9,
      "outputs": []
    },
    {
      "cell_type": "code",
      "metadata": {
        "colab": {
          "base_uri": "https://localhost:8080/"
        },
        "id": "JVivxS-bJAgq",
        "outputId": "7ab69369-0164-42a3-ef8c-3c3d964b1287"
      },
      "source": [
        "print(accuracy)"
      ],
      "execution_count": 10,
      "outputs": [
        {
          "output_type": "stream",
          "name": "stdout",
          "text": [
            "0.813953488372093\n"
          ]
        }
      ]
    },
    {
      "cell_type": "markdown",
      "metadata": {
        "id": "GdIb2jfUgM3s"
      },
      "source": [
        "**Grid Search**"
      ]
    },
    {
      "cell_type": "code",
      "metadata": {
        "id": "zHF7Q_A9qHZu",
        "colab": {
          "base_uri": "https://localhost:8080/"
        },
        "outputId": "392d1263-a76c-47da-a21b-55d1555914f8"
      },
      "source": [
        "# Define the grid\n",
        "param_grid = {'n_estimators': [50, 100, 200, 300],\n",
        "              'min_samples_leaf': [1, 5, 10],\n",
        "              'max_depth': [2, 4, 6, 8, 10],\n",
        "              'max_features': ['auto', 'sqrt'],\n",
        "              'bootstrap': [True, False]}\n",
        "\n",
        "# Instantiate GridSearchCV\n",
        "model_gridsearch = GridSearchCV(estimator=rf_model,\n",
        "                                param_grid=param_grid,\n",
        "                                scoring='accuracy',\n",
        "                                n_jobs=4,\n",
        "                                cv=5,\n",
        "                                refit=True,\n",
        "                                return_train_score=True\n",
        "                                )\n",
        "# Record the current time              \n",
        "start = time()\n",
        "\n",
        "# Fit the selected model\n",
        "model_gridsearch.fit(X_train, y_train)\n",
        "\n",
        "# Print the time spend and number of models ran\n",
        "print(\"GridSearchCV took %.2f seconds for %d candidate parameter settings.\" % ((time() - start), len(model_gridsearch.cv_results_['params'])))"
      ],
      "execution_count": 23,
      "outputs": [
        {
          "output_type": "stream",
          "name": "stdout",
          "text": [
            "GridSearchCV took 247.79 seconds for 240 candidate parameter settings.\n"
          ]
        }
      ]
    },
    {
      "cell_type": "code",
      "metadata": {
        "id": "KFoTj8kje6tc"
      },
      "source": [
        "# Predict on the test set and call accuracy\n",
        "y_pred_grid = model_gridsearch.predict(X_test)\n",
        "accuracy_grid = accuracy_score(y_test, y_pred_grid)"
      ],
      "execution_count": 24,
      "outputs": []
    },
    {
      "cell_type": "code",
      "metadata": {
        "colab": {
          "base_uri": "https://localhost:8080/"
        },
        "id": "aMoPlR9QJpkb",
        "outputId": "c60b793d-fb2b-496d-f036-8f3ed9622ef3"
      },
      "source": [
        "print(accuracy_grid)"
      ],
      "execution_count": 25,
      "outputs": [
        {
          "output_type": "stream",
          "name": "stdout",
          "text": [
            "0.8837209302325582\n"
          ]
        }
      ]
    },
    {
      "cell_type": "code",
      "metadata": {
        "colab": {
          "base_uri": "https://localhost:8080/"
        },
        "id": "7jAXtzx5J4_1",
        "outputId": "4cd32984-23bc-4ecf-d5f7-214f275b6cc3"
      },
      "source": [
        "model_gridsearch.get_params"
      ],
      "execution_count": 26,
      "outputs": [
        {
          "output_type": "execute_result",
          "data": {
            "text/plain": [
              "<bound method BaseEstimator.get_params of GridSearchCV(cv=5, error_score=nan,\n",
              "             estimator=RandomForestClassifier(bootstrap=True, ccp_alpha=0.0,\n",
              "                                              class_weight=None,\n",
              "                                              criterion='gini', max_depth=None,\n",
              "                                              max_features='auto',\n",
              "                                              max_leaf_nodes=None,\n",
              "                                              max_samples=None,\n",
              "                                              min_impurity_decrease=0.0,\n",
              "                                              min_impurity_split=None,\n",
              "                                              min_samples_leaf=1,\n",
              "                                              min_samples_split=2,\n",
              "                                              min_weight_fraction_leaf=0.0,\n",
              "                                              n_estimators=100, n_jobs=None,\n",
              "                                              oob_score=False,\n",
              "                                              random_state=None, verbose=0,\n",
              "                                              warm_start=False),\n",
              "             iid='deprecated', n_jobs=4,\n",
              "             param_grid={'bootstrap': [True, False],\n",
              "                         'max_depth': [2, 4, 6, 8, 10],\n",
              "                         'max_features': ['auto', 'sqrt'],\n",
              "                         'min_samples_leaf': [1, 5, 10],\n",
              "                         'n_estimators': [50, 100, 200, 300]},\n",
              "             pre_dispatch='2*n_jobs', refit=True, return_train_score=True,\n",
              "             scoring='accuracy', verbose=0)>"
            ]
          },
          "metadata": {},
          "execution_count": 26
        }
      ]
    },
    {
      "cell_type": "code",
      "metadata": {
        "id": "0mXDnuNFKepz",
        "colab": {
          "base_uri": "https://localhost:8080/"
        },
        "outputId": "10bfe64d-9b24-4a3f-8ad8-32dd6f0fdb95"
      },
      "source": [
        "cv_results_df = pd.DataFrame(model_gridsearch.cv_results_)\n",
        "print(cv_results_df.loc[cv_results_df['rank_test_score'] == 1, 'params'])\n",
        "print(model_gridsearch.best_params_)"
      ],
      "execution_count": 27,
      "outputs": [
        {
          "output_type": "stream",
          "name": "stdout",
          "text": [
            "111    {'bootstrap': True, 'max_depth': 10, 'max_feat...\n",
            "Name: params, dtype: object\n",
            "{'bootstrap': True, 'max_depth': 10, 'max_features': 'sqrt', 'min_samples_leaf': 1, 'n_estimators': 300}\n"
          ]
        }
      ]
    },
    {
      "cell_type": "code",
      "metadata": {
        "colab": {
          "base_uri": "https://localhost:8080/"
        },
        "id": "2HvcKQ36yr4p",
        "outputId": "3f925cd5-f7dc-43ef-b4a1-658328455409"
      },
      "source": [
        "print(model_gridsearch.best_estimator_)"
      ],
      "execution_count": 28,
      "outputs": [
        {
          "output_type": "stream",
          "name": "stdout",
          "text": [
            "RandomForestClassifier(bootstrap=True, ccp_alpha=0.0, class_weight=None,\n",
            "                       criterion='gini', max_depth=10, max_features='sqrt',\n",
            "                       max_leaf_nodes=None, max_samples=None,\n",
            "                       min_impurity_decrease=0.0, min_impurity_split=None,\n",
            "                       min_samples_leaf=1, min_samples_split=2,\n",
            "                       min_weight_fraction_leaf=0.0, n_estimators=300,\n",
            "                       n_jobs=None, oob_score=False, random_state=None,\n",
            "                       verbose=0, warm_start=False)\n"
          ]
        }
      ]
    },
    {
      "cell_type": "markdown",
      "metadata": {
        "id": "mI2v9LhDgThr"
      },
      "source": [
        "**Random Search**"
      ]
    },
    {
      "cell_type": "code",
      "metadata": {
        "id": "HDi6BDa5_ryh",
        "colab": {
          "base_uri": "https://localhost:8080/"
        },
        "outputId": "8ede42cc-394f-4435-c914-80ee46899474"
      },
      "source": [
        "# specify distributions to sample from\n",
        "param_dist = {'n_estimators': list(range(100, 300, 10)),\n",
        "              'min_samples_leaf': list(range(1, 50)),\n",
        "              'max_depth': list(range(2, 20)),\n",
        "              'max_features': ['auto', 'sqrt'],\n",
        "              'bootstrap': [True, False]}\n",
        "\n",
        "# specify number of search iterations\n",
        "n_iter_search = 50\n",
        "\n",
        "# Instantiate RandomSearchCV\n",
        "model_random_search = RandomizedSearchCV(estimator=rf_model,\n",
        "                                         param_distributions=param_dist,\n",
        "                                         n_iter=n_iter_search)\n",
        "\n",
        "# Record the current time\n",
        "start = time()\n",
        "\n",
        "# Fit the selected model\n",
        "model_random_search.fit(X_train, y_train)\n",
        "\n",
        "# Print the time spend and number of models ran\n",
        "print(\"RandomizedSearchCV took %.2f seconds for %d candidate parameter settings.\" % ((time() - start), n_iter_search))"
      ],
      "execution_count": 35,
      "outputs": [
        {
          "output_type": "stream",
          "name": "stdout",
          "text": [
            "RandomizedSearchCV took 64.17 seconds for 50 candidate parameter settings.\n"
          ]
        }
      ]
    },
    {
      "cell_type": "code",
      "metadata": {
        "id": "-ZAluhWvJSL9"
      },
      "source": [
        "# Predict on the test set and call accuracy\n",
        "y_pred_random = model_random_search.predict(X_test)\n",
        "accuracy_random = accuracy_score(y_test, y_pred_random)"
      ],
      "execution_count": 36,
      "outputs": []
    },
    {
      "cell_type": "code",
      "metadata": {
        "colab": {
          "base_uri": "https://localhost:8080/"
        },
        "id": "w-uauMMVJjKS",
        "outputId": "71950752-5a47-422e-c401-e49cf54d12d1"
      },
      "source": [
        "print(accuracy_random)"
      ],
      "execution_count": 37,
      "outputs": [
        {
          "output_type": "stream",
          "name": "stdout",
          "text": [
            "0.8604651162790697\n"
          ]
        }
      ]
    },
    {
      "cell_type": "code",
      "metadata": {
        "colab": {
          "base_uri": "https://localhost:8080/"
        },
        "id": "3HbBODvIJrql",
        "outputId": "f687bb10-e2ce-4a55-93e5-35936ba9c0e8"
      },
      "source": [
        "cv_results_random = pd.DataFrame(model_gridsearch.cv_results_)\n",
        "\n",
        "print(cv_results_random.loc[cv_results_random['rank_test_score'] == 1, 'params'])\n",
        "\n",
        "print(model_random_search.best_params_)"
      ],
      "execution_count": 38,
      "outputs": [
        {
          "output_type": "stream",
          "name": "stdout",
          "text": [
            "111    {'bootstrap': True, 'max_depth': 10, 'max_feat...\n",
            "Name: params, dtype: object\n",
            "{'n_estimators': 230, 'min_samples_leaf': 4, 'max_features': 'auto', 'max_depth': 13, 'bootstrap': False}\n"
          ]
        }
      ]
    },
    {
      "cell_type": "code",
      "metadata": {
        "colab": {
          "base_uri": "https://localhost:8080/"
        },
        "id": "xY_ZPhdjM7Mz",
        "outputId": "9babedf8-5448-4f2a-9d4d-78a7a4fa4c33"
      },
      "source": [
        "print(model_random_search.best_estimator_)"
      ],
      "execution_count": 39,
      "outputs": [
        {
          "output_type": "stream",
          "name": "stdout",
          "text": [
            "RandomForestClassifier(bootstrap=False, ccp_alpha=0.0, class_weight=None,\n",
            "                       criterion='gini', max_depth=13, max_features='auto',\n",
            "                       max_leaf_nodes=None, max_samples=None,\n",
            "                       min_impurity_decrease=0.0, min_impurity_split=None,\n",
            "                       min_samples_leaf=4, min_samples_split=2,\n",
            "                       min_weight_fraction_leaf=0.0, n_estimators=230,\n",
            "                       n_jobs=None, oob_score=False, random_state=None,\n",
            "                       verbose=0, warm_start=False)\n"
          ]
        }
      ]
    }
  ]
}